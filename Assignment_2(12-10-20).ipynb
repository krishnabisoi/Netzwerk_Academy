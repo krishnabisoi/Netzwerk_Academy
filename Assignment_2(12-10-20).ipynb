{
 "cells": [
  {
   "cell_type": "code",
   "execution_count": 16,
   "metadata": {},
   "outputs": [],
   "source": [
    "# 1. Assignment - Go through other inbuilt methods like remove(), count(), clear(), sort(), reverse()"
   ]
  },
  {
   "cell_type": "code",
   "execution_count": 71,
   "metadata": {},
   "outputs": [
    {
     "name": "stdout",
     "output_type": "stream",
     "text": [
      "[23, 15, 7, 47, 3, 7, 23, 66, 23, 6]\n",
      "New list after removing 23 from the list1 : [15, 7, 47, 3, 7, 23, 66, 23, 6]\n",
      "\n",
      "['Python', 'ML', 'DL', 'CV', 'Python']\n",
      "New list after removing 23 from the list2 : ['ML', 'DL', 'CV', 'Python']\n"
     ]
    }
   ],
   "source": [
    "# remove() -> it will remove the first occurance of the object from the list which is passed.\n",
    "\n",
    "list1 = [23,15,7,47,3,7,23,66,23,6]\n",
    "print(list1)\n",
    "\n",
    "list1.remove(23)\n",
    "print(\"New list after removing 23 from the list1 : {}\\n\".format(list1)) \n",
    "\n",
    "list2 = [\"Python\",\"ML\",\"DL\",\"CV\",\"Python\"]\n",
    "print(list2)\n",
    "\n",
    "list2.remove(\"Python\")\n",
    "print(\"New list after removing 23 from the list2 : {}\".format(list2))"
   ]
  },
  {
   "cell_type": "code",
   "execution_count": 72,
   "metadata": {},
   "outputs": [
    {
     "name": "stdout",
     "output_type": "stream",
     "text": [
      "[23, 15, 7, 47, 3, 7, 23, 66, 23, 6]\n",
      "Count of value 23 in list1 : 3\n",
      "\n",
      "['Python', 'ML', 'DL', 'CV', 'Python']\n",
      "Count of value 'Python' in list2 : 2\n"
     ]
    }
   ],
   "source": [
    "# count() -> it will return the total count of value present in the list\n",
    "list1 = [23,15,7,47,3,7,23,66,23,6]\n",
    "print(list1)\n",
    "print(\"Count of value 23 in list1 : {}\\n\".format(list1.count(23)))\n",
    "\n",
    "list2 = [\"Python\",\"ML\",\"DL\",\"CV\",\"Python\"]\n",
    "print(list2)\n",
    "print(\"Count of value 'Python' in list2 : {}\".format(list2.count('Python')))"
   ]
  },
  {
   "cell_type": "code",
   "execution_count": 73,
   "metadata": {},
   "outputs": [
    {
     "name": "stdout",
     "output_type": "stream",
     "text": [
      "[23, 15, 7, 47, 3, 7, 23, 66, 23, 6]\n",
      "Elements of list1 : []\n",
      "\n",
      "['Python', 'ML', 'DL', 'CV', 'Python']\n",
      "Elements of list2 : []\n"
     ]
    }
   ],
   "source": [
    "# clear() -> it will delete all the elements from the list\n",
    "list1 = [23,15,7,47,3,7,23,66,23,6]\n",
    "print(list1)\n",
    "list1.clear()\n",
    "print(\"Elements of list1 : {}\\n\".format(list1))\n",
    "\n",
    "list2 = [\"Python\",\"ML\",\"DL\",\"CV\",\"Python\"]\n",
    "print(list2)\n",
    "list2.clear()\n",
    "print(\"Elements of list2 : {}\".format(list2))"
   ]
  },
  {
   "cell_type": "code",
   "execution_count": 74,
   "metadata": {},
   "outputs": [
    {
     "name": "stdout",
     "output_type": "stream",
     "text": [
      "[23, 15, 7, 47, 3, 7, 23, 66, 23, 6]\n",
      "Elements sorted in ascending order of list1 : [3, 6, 7, 7, 15, 23, 23, 23, 47, 66]\n",
      "\n",
      "Elements sorted in descending order of list1 : [66, 47, 23, 23, 23, 15, 7, 7, 6, 3]\n",
      "\n"
     ]
    }
   ],
   "source": [
    "# sort() -> it will sort the list in increasing order by default\n",
    "list1 = [23,15,7,47,3,7,23,66,23,6]\n",
    "print(list1)\n",
    "\n",
    "list1.sort()\n",
    "print(\"Elements sorted in ascending order of list1 : {}\\n\".format(list1))\n",
    "\n",
    "\n",
    "# to sort the list in decreasing order set parameter reverse to True.\n",
    "list1.sort(reverse = True)\n",
    "print(\"Elements sorted in descending order of list1 : {}\\n\".format(list1))\n"
   ]
  },
  {
   "cell_type": "code",
   "execution_count": 75,
   "metadata": {},
   "outputs": [
    {
     "name": "stdout",
     "output_type": "stream",
     "text": [
      "[23, 15, 7, 47, 3, 7, 23, 66, 23, 6]\n",
      "Elements of list1 is set in reverse order : [6, 23, 66, 23, 7, 3, 47, 7, 15, 23]\n",
      "\n",
      "['Python', 'ML', 'DL', 'CV', 'Python']\n",
      "Elements of list2 is set in reverse order : ['Python', 'CV', 'DL', 'ML', 'Python']\n"
     ]
    }
   ],
   "source": [
    "# reverse() -> the method will set the elements in reverse order.\n",
    "list1 = [23,15,7,47,3,7,23,66,23,6]\n",
    "print(list1)\n",
    "\n",
    "list1.reverse()\n",
    "print(\"Elements of list1 is set in reverse order : {}\\n\".format(list1))\n",
    "\n",
    "list2 = [\"Python\",\"ML\",\"DL\",\"CV\",\"Python\"]\n",
    "print(list2)\n",
    "\n",
    "list2.reverse()\n",
    "print(\"Elements of list2 is set in reverse order : {}\".format(list2))"
   ]
  },
  {
   "cell_type": "code",
   "execution_count": 76,
   "metadata": {},
   "outputs": [
    {
     "data": {
      "text/plain": [
       "[10, 20, [30, 40, [50, 60, 70], 80], 90, 100]"
      ]
     },
     "execution_count": 76,
     "metadata": {},
     "output_type": "execute_result"
    }
   ],
   "source": [
    "# 4. Assignment - Solve 2 given problems. \n",
    "\n",
    "#1) Add item 70 after 60 in the following python list\n",
    "#input  : l1 = [10, 20, [30 , 40, [50, 60], 80], 90, 100]\n",
    "#output : l1 = [10, 20, [30 , 40, [50, 60, 70], 80], 90, 100]\n",
    "\n",
    "l1 = [10, 20, [30 , 40, [50, 60], 80], 90, 100]\n",
    "l2 = l1[2][2]\n",
    "l2.append(70)\n",
    "l1[2][2] = l2\n",
    "l1"
   ]
  },
  {
   "cell_type": "code",
   "execution_count": 77,
   "metadata": {},
   "outputs": [
    {
     "data": {
      "text/plain": [
       "[1, 2, [3, 4, 5, 6, [7, 8]], 9]"
      ]
     },
     "execution_count": 77,
     "metadata": {},
     "output_type": "execute_result"
    }
   ],
   "source": [
    "#2) Add sublist [7,8] after 6\n",
    "#input  : l1 = [1, 2, [3, 4, 5, 6], 9]\n",
    "#output : l1 = [1, 2, [3, 4, 5, 6, [7, 8]], 9]\n",
    "\n",
    "l1 = [1, 2, [3, 4, 5, 6], 9]\n",
    "l2 = l1.pop(2)\n",
    "\n",
    "sublist = [7,8]\n",
    "\n",
    "l2.append(sublist)\n",
    "\n",
    "l1.insert(2,l2)\n",
    "l1"
   ]
  },
  {
   "cell_type": "code",
   "execution_count": null,
   "metadata": {},
   "outputs": [],
   "source": []
  }
 ],
 "metadata": {
  "kernelspec": {
   "display_name": "Python 3",
   "language": "python",
   "name": "python3"
  },
  "language_info": {
   "codemirror_mode": {
    "name": "ipython",
    "version": 3
   },
   "file_extension": ".py",
   "mimetype": "text/x-python",
   "name": "python",
   "nbconvert_exporter": "python",
   "pygments_lexer": "ipython3",
   "version": "3.7.3"
  }
 },
 "nbformat": 4,
 "nbformat_minor": 2
}
