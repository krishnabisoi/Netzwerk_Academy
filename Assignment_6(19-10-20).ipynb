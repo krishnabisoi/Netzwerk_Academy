{
 "cells": [
  {
   "cell_type": "code",
   "execution_count": 2,
   "metadata": {},
   "outputs": [
    {
     "name": "stdout",
     "output_type": "stream",
     "text": [
      "10\n",
      "9\n",
      "8\n",
      "7\n",
      "6\n",
      "5\n",
      "4\n",
      "3\n",
      "2\n",
      "1\n"
     ]
    }
   ],
   "source": [
    "# 10. Assignment :\n",
    "\n",
    "# Task 1: using while loop print numbers 10 to 1\n",
    "\n",
    "count = 10\n",
    "\n",
    "while(count>=1):\n",
    "    print(count)\n",
    "    count = count - 1"
   ]
  },
  {
   "cell_type": "code",
   "execution_count": 13,
   "metadata": {},
   "outputs": [
    {
     "name": "stdout",
     "output_type": "stream",
     "text": [
      "Tuple:  1\n",
      "Tuple:  2\n",
      "Tuple:  3\n",
      "Tuple:  4\n",
      "Tuple:  5\n",
      "\n",
      "Dictionary with keys:  one\n",
      "Dictionary with keys:  two\n",
      "Dictionary with keys:  three\n",
      "Dictionary with keys:  four\n",
      "Dictionary with keys:  five\n",
      "\n",
      "Dictionary with values:  Stat\n",
      "Dictionary with values:  Python\n",
      "Dictionary with values:  ML\n",
      "Dictionary with values:  DL\n",
      "Dictionary with values:  CV\n",
      "\n",
      "Set:  four\n",
      "Set:  one\n",
      "Set:  three\n",
      "Set:  five\n",
      "Set:  two\n"
     ]
    }
   ],
   "source": [
    "# Task 2: try using for loop over tuple, dictionary and sets\n",
    "\n",
    "tup1 = (1,2,3,4,5)\n",
    "dict1 = {\"one\":\"Stat\", \"two\":\"Python\", \"three\":\"ML\", \"four\":\"DL\", \"five\":\"CV\"}\n",
    "set1 = {\"one\",\"two\",\"three\",\"four\",\"five\"}\n",
    "\n",
    "#tuple \n",
    "for dig in tup1:\n",
    "    print(\"Tuple: \",dig)\n",
    "\n",
    "\n",
    "#iterate dictionary through keys.\n",
    "print()\n",
    "for key in dict1:\n",
    "    print(\"Dictionary with keys: \",key)\n",
    "\n",
    "    \n",
    "#iterate dictionary through values.\n",
    "print()\n",
    "for value in dict1.values():\n",
    "    print(\"Dictionary with values: \", value)\n",
    "    \n",
    "#set\n",
    "print()\n",
    "for val in set1:\n",
    "    print(\"Set: \", val)"
   ]
  },
  {
   "cell_type": "code",
   "execution_count": null,
   "metadata": {},
   "outputs": [],
   "source": []
  }
 ],
 "metadata": {
  "kernelspec": {
   "display_name": "Python 3",
   "language": "python",
   "name": "python3"
  },
  "language_info": {
   "codemirror_mode": {
    "name": "ipython",
    "version": 3
   },
   "file_extension": ".py",
   "mimetype": "text/x-python",
   "name": "python",
   "nbconvert_exporter": "python",
   "pygments_lexer": "ipython3",
   "version": "3.7.3"
  }
 },
 "nbformat": 4,
 "nbformat_minor": 2
}
