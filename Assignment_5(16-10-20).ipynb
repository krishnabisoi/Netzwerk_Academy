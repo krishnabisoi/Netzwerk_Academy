{
 "cells": [
  {
   "cell_type": "code",
   "execution_count": 2,
   "metadata": {},
   "outputs": [
    {
     "name": "stdout",
     "output_type": "stream",
     "text": [
      "Please enter 1st integer number: 3\n",
      "Please enter 2nd integer number: 6\n"
     ]
    }
   ],
   "source": [
    "#9. Assignment - complete following 3 tasks:\n",
    "\n",
    "# Task1 : Ask 2 numbers from users and store it in num1 and num2\n",
    "num1 = int(input(\"Please enter 1st integer number: \"))\n",
    "num2 = int(input(\"Please enter 2nd integer number: \"))"
   ]
  },
  {
   "cell_type": "code",
   "execution_count": 3,
   "metadata": {},
   "outputs": [
    {
     "name": "stdout",
     "output_type": "stream",
     "text": [
      "\n",
      "press 1 for addition \n",
      "press 2 for subtraction\n",
      "press 3 for multiplication\n",
      "press 4 for division\n",
      "\n",
      "Please choose an operation:3\n"
     ]
    }
   ],
   "source": [
    "# Task2 : Ask user to press 1 for addition, 2 for subtraction, 3 for multiplication and 4 for division.\n",
    "\n",
    "choice = int(input(\"\\npress 1 for addition \"+\n",
    "                   \"\\npress 2 for subtraction\"+\n",
    "                   \"\\npress 3 for multiplication\" + \n",
    "                   \"\\npress 4 for division\" + \n",
    "                   \"\\n\\nPlease choose an operation:\"))"
   ]
  },
  {
   "cell_type": "code",
   "execution_count": 4,
   "metadata": {},
   "outputs": [
    {
     "name": "stdout",
     "output_type": "stream",
     "text": [
      "Multiplication of 3 and 6 is : 18\n"
     ]
    }
   ],
   "source": [
    "#Task3 : Based on number given by user do the math operation\n",
    "\n",
    "if(choice==1):\n",
    "    print(\"Addition of {} and {} is : {}\".format(num1,num2,num1+num2))\n",
    "elif(choice==2):\n",
    "    print(\"Subtraction of {} and {} is : {}\".format(num1,num2,num1-num2))\n",
    "elif(choice==3):\n",
    "    print(\"Multiplication of {} and {} is : {}\".format(num1,num2,num1*num2))\n",
    "elif(choice==4):\n",
    "    print(\"Division of {} and {} is : {}\".format(num1,num2,num1/num2))\n",
    "else:\n",
    "    print(\"Invalid input.\")"
   ]
  },
  {
   "cell_type": "code",
   "execution_count": null,
   "metadata": {},
   "outputs": [],
   "source": []
  },
  {
   "cell_type": "code",
   "execution_count": null,
   "metadata": {},
   "outputs": [],
   "source": []
  }
 ],
 "metadata": {
  "kernelspec": {
   "display_name": "Python 3",
   "language": "python",
   "name": "python3"
  },
  "language_info": {
   "codemirror_mode": {
    "name": "ipython",
    "version": 3
   },
   "file_extension": ".py",
   "mimetype": "text/x-python",
   "name": "python",
   "nbconvert_exporter": "python",
   "pygments_lexer": "ipython3",
   "version": "3.7.3"
  }
 },
 "nbformat": 4,
 "nbformat_minor": 2
}
