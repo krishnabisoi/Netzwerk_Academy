{
 "cells": [
  {
   "cell_type": "code",
   "execution_count": 21,
   "metadata": {},
   "outputs": [
    {
     "name": "stdout",
     "output_type": "stream",
     "text": [
      "Tuple1 : (1, 2, 3, 4, 5)\n",
      "List1 : [1, 2, 3, 4, 5, 'Krishna']\n",
      "Tuple1 with added valye 'Krishna': (1, 2, 3, 4, 5, 'Krishna')\n"
     ]
    }
   ],
   "source": [
    "# 6. Assignment - Add and remove the elements from a tuple. (Refer workaround to modify the tuples)\n",
    "\n",
    "\n",
    "#Adding my name as string in the tuple.\n",
    "tup1 = (1,2,3,4,5)\n",
    "print(\"Tuple1 : {}\".format(tup1))\n",
    "\n",
    "list1 = list(tup1)\n",
    "\n",
    "list1.append(\"Krishna\")\n",
    "print(\"List1 : {}\".format(list1))\n",
    "\n",
    "tup1 = tuple(list1)\n",
    "print(\"Tuple1 with added valye 'Krishna': {}\".format(tup1))"
   ]
  },
  {
   "cell_type": "code",
   "execution_count": 23,
   "metadata": {},
   "outputs": [
    {
     "name": "stdout",
     "output_type": "stream",
     "text": [
      "Tuple1 : (1, 2, 3, 4, 5)\n",
      "List1 : [1, 3, 4, 5]\n",
      "Tuple with removed value '2' : (1, 3, 4, 5)\n"
     ]
    }
   ],
   "source": [
    "#Removing a value from tuple.\n",
    "tup1 = (1,2,3,4,5)\n",
    "print(\"Tuple1 : {}\".format(tup1))\n",
    "\n",
    "list2 = list(tup1)\n",
    "\n",
    "list2.remove(2)\n",
    "print(\"List1 : {}\".format(list2))\n",
    "\n",
    "tup1 = tuple(list2)\n",
    "print(\"Tuple with removed value '2' : {}\".format(tup1))"
   ]
  },
  {
   "cell_type": "code",
   "execution_count": 40,
   "metadata": {},
   "outputs": [
    {
     "name": "stdout",
     "output_type": "stream",
     "text": [
      "Difference between Set1 and Set2: {'Python', 'Stats'}\n",
      "Difference between Set2 and Set1: {'DL', 'CV'}\n",
      "\n",
      "Difference between Set5 and Set6: {1, 2, 3}\n",
      "Difference between Set6 and Set5: {8, 9, 7}\n"
     ]
    }
   ],
   "source": [
    "# 7. Assignment - Go through other inbuilt methods for set\n",
    "\n",
    "#1) difference() -> this method returns a set of elements present in set1 and not in set2\n",
    "\n",
    "#example1\n",
    "set1 = {\"Stats\", \"Python\", \"ML\"}\n",
    "set2 = {\"ML\", \"DL\", \"CV\"}\n",
    "\n",
    "set3 = set1.difference(set2)\n",
    "print(\"Difference between Set1 and Set2: {}\".format(set3))\n",
    "\n",
    "set4 = set2.difference(set1)\n",
    "print(\"Difference between Set2 and Set1: {}\".format(set4))\n",
    "\n",
    "\n",
    "#example2\n",
    "set5 = {1,2,3,4,5,6}\n",
    "set6 = {4,5,6,7,8,9}\n",
    "\n",
    "set7 = set5.difference(set6)\n",
    "print(\"\\nDifference between Set5 and Set6: {}\".format(set7))\n",
    "\n",
    "set8 = set6.difference(set5)\n",
    "print(\"Difference between Set6 and Set5: {}\".format(set8))"
   ]
  },
  {
   "cell_type": "code",
   "execution_count": 42,
   "metadata": {},
   "outputs": [
    {
     "name": "stdout",
     "output_type": "stream",
     "text": [
      "Symmetric difference between Set1 and Set2: {'CV', 'DL', 'Python', 'Stats'}\n",
      "\n",
      "Symmetric difference between Set5 and Set5: {1, 2, 3, 7, 8, 9}\n"
     ]
    }
   ],
   "source": [
    "#2) symmetric_difference() -> this method returns a set of all elements, except which are present in both set1 and set2\n",
    "\n",
    "#example1\n",
    "set1 = {\"Stats\", \"Python\", \"ML\"}\n",
    "set2 = {\"ML\", \"DL\", \"CV\"}\n",
    "\n",
    "set3 = set1.symmetric_difference(set2)\n",
    "print(\"Symmetric difference between Set1 and Set2: {}\".format(set3))\n",
    "\n",
    "\n",
    "#example2\n",
    "set4 = {1,2,3,4,5,6}\n",
    "set5 = {4,5,6,7,8,9}\n",
    "\n",
    "set6 = set4.symmetric_difference(set5)\n",
    "print(\"\\nSymmetric difference between Set5 and Set5: {}\".format(set6))"
   ]
  },
  {
   "cell_type": "code",
   "execution_count": 65,
   "metadata": {},
   "outputs": [],
   "source": [
    "#8. Assignment - Make a table of all the in-built data structures and point out the differences one by one\n",
    "\n",
    "dict1 = {\"Data_type\" : {\"type1\":\"List\", \"type2\":\"Dictionary\", \"type3\":\"Tuple\", \"type4\":\"Set\"},\n",
    "         \n",
    "         \"Order_retained\" : {\"type1\":True, \"type2\":True, \"type3\":True, \"type4\":False},\n",
    "         \n",
    "         \"Store_different_data_types\": {\"type1\":True, \"type2\":True, \"type3\":True, \"type4\":True},\n",
    "         \n",
    "         \"Mutable\" : {\"type1\":True, \"type2\":True, \"type3\":False, \"type4\":\"Only addition/removal of elements is allowed\"},\n",
    "        \n",
    "         \"Indexing_allowed\" : {\"type1\":True, \"type2\":True, \"type3\":True, \"type4\":False},\n",
    "         \n",
    "         \"Slicing_allowed\" : {\"type1\":True, \"type2\":False, \"type3\":True, \"type4\":False},\n",
    "         \n",
    "         \"Duplicate_data_allowed\" : {\"type1\":True, \"type2\":\"not keys only values\", \"type3\":True, \"type4\": False}}"
   ]
  },
  {
   "cell_type": "code",
   "execution_count": 96,
   "metadata": {},
   "outputs": [
    {
     "name": "stdout",
     "output_type": "stream",
     "text": [
      "{'Data_type': {'type1': 'List', 'type2': 'Dictionary', 'type3': 'Tuple', 'type4': 'Set'}, 'Order_retained': {'type1': True, 'type2': True, 'type3': True, 'type4': False}, 'Store_different_data_types': {'type1': True, 'type2': True, 'type3': True, 'type4': True}, 'Mutable': {'type1': True, 'type2': True, 'type3': False, 'type4': 'Only addition/removal of elements is allowed'}, 'Indexing_allowed': {'type1': True, 'type2': True, 'type3': True, 'type4': False}, 'Slicing_allowed': {'type1': True, 'type2': False, 'type3': True, 'type4': False}, 'Duplicate_data_allowed': {'type1': True, 'type2': 'not keys only values', 'type3': True, 'type4': False}}\n"
     ]
    }
   ],
   "source": [
    "print(dict1)"
   ]
  },
  {
   "cell_type": "code",
   "execution_count": 94,
   "metadata": {},
   "outputs": [
    {
     "name": "stdout",
     "output_type": "stream",
     "text": [
      "Data types \t\t-> dict_values(['List', 'Dictionary', 'Tuple', 'Set'])\n",
      "Order feature \t\t-> dict_values([True, True, True, False])\n",
      "Different data types \t-> dict_values([True, True, True, True])\n",
      "Mutable \t\t-> dict_values([True, True, False, 'Only addition/removal of elements is allowed'])\n",
      "Indexing allowed \t-> dict_values([True, True, True, False])\n",
      "Slicing allowed \t-> dict_values([True, False, True, False])\n",
      "Duplicate data allowed \t-> dict_values([True, 'not keys only values', True, False])\n"
     ]
    }
   ],
   "source": [
    "print(\"Data types \\t\\t-> {}\".format(dict1[\"Data_type\"].values()) + \n",
    "      \"\\nOrder feature \\t\\t-> {}\".format(dict1[\"Order_retained\"].values()) +\n",
    "      \"\\nDifferent data types \\t-> {}\".format(dict1[\"Store_different_data_types\"].values()) +\n",
    "      \"\\nMutable \\t\\t-> {}\".format(dict1[\"Mutable\"].values()) +\n",
    "      \"\\nIndexing allowed \\t-> {}\".format(dict1[\"Indexing_allowed\"].values()) +\n",
    "      \"\\nSlicing allowed \\t-> {}\".format(dict1[\"Slicing_allowed\"].values()) +\n",
    "      \"\\nDuplicate data allowed \\t-> {}\".format(dict1[\"Duplicate_data_allowed\"].values())) "
   ]
  },
  {
   "cell_type": "code",
   "execution_count": null,
   "metadata": {},
   "outputs": [],
   "source": []
  }
 ],
 "metadata": {
  "kernelspec": {
   "display_name": "Python 3",
   "language": "python",
   "name": "python3"
  },
  "language_info": {
   "codemirror_mode": {
    "name": "ipython",
    "version": 3
   },
   "file_extension": ".py",
   "mimetype": "text/x-python",
   "name": "python",
   "nbconvert_exporter": "python",
   "pygments_lexer": "ipython3",
   "version": "3.7.3"
  }
 },
 "nbformat": 4,
 "nbformat_minor": 2
}
