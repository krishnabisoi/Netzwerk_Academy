{
 "cells": [
  {
   "cell_type": "code",
   "execution_count": 8,
   "metadata": {},
   "outputs": [
    {
     "name": "stdout",
     "output_type": "stream",
     "text": [
      "Enter 1st integer number: 5\n",
      "Enter 2nd integer number: 10\n"
     ]
    }
   ],
   "source": [
    "# 11 Assignment :\n",
    "\n",
    "# Task 1 - Ask 2 numbers from users and store it in num1 and num2\n",
    "\n",
    "num1 = int(input(\"Enter 1st integer number: \"))\n",
    "num2 = int(input(\"Enter 2nd integer number: \"))"
   ]
  },
  {
   "cell_type": "code",
   "execution_count": 9,
   "metadata": {},
   "outputs": [
    {
     "name": "stdout",
     "output_type": "stream",
     "text": [
      "Press 1 for addition\n",
      "Press 2 for subtraction\n",
      "Press 3 for multiplication\n",
      "Press 4 for division\n",
      "\n",
      "Provide your choice:4\n"
     ]
    }
   ],
   "source": [
    "# Task 2 - Ask user to press 1 for addition, 2 for subtraction, 3 multiplication and 4 for division\n",
    "\n",
    "choice = int(input(\"Press 1 for addition\" + \n",
    "                   \"\\nPress 2 for subtraction\" +\n",
    "                   \"\\nPress 3 for multiplication\" +\n",
    "                   \"\\nPress 4 for division\" +\n",
    "                   \"\\n\\nProvide your choice:\"))"
   ]
  },
  {
   "cell_type": "code",
   "execution_count": 10,
   "metadata": {},
   "outputs": [],
   "source": [
    "# Task 3 - create 4 separate fucntions for each operation (i.e. addition, subtraction, multiplication and division)\n",
    "\n",
    "def add(num1=0,num2=0):\n",
    "    print(\"Addition of {} and {} is: {}\".format(num1,num2,num1+num2))\n",
    "\n",
    "def sub(num1=0,num2=0):\n",
    "    print(\"Subtraction of {} and {} is: {}\".format(num1,num2,num1-num2))\n",
    "\n",
    "def mult(num1=0,num2=0):\n",
    "    print(\"Multiplication of {} and {} is: {}\".format(num1,num2,num1*num2))\n",
    "\n",
    "def div(num1=0,num2=0):\n",
    "    print(\"Division of {} and {} is: {}\".format(num1,num2,num1/num2))"
   ]
  },
  {
   "cell_type": "code",
   "execution_count": 11,
   "metadata": {},
   "outputs": [
    {
     "name": "stdout",
     "output_type": "stream",
     "text": [
      "Division of 5 and 10 is: 0.5\n"
     ]
    }
   ],
   "source": [
    "# Task 4 - based on number given by user, call that function and print the output\n",
    "\n",
    "if(choice==1):\n",
    "    add(num1,num2)\n",
    "elif(choice==2):\n",
    "    sub(num1,num2)\n",
    "elif(choice==3):\n",
    "    mult(num1,num2)\n",
    "elif(choice==4):\n",
    "    div(num1,num2)\n",
    "else:\n",
    "    print(\"Invalid choice\")\n",
    "        "
   ]
  },
  {
   "cell_type": "code",
   "execution_count": null,
   "metadata": {},
   "outputs": [],
   "source": []
  }
 ],
 "metadata": {
  "kernelspec": {
   "display_name": "Python 3",
   "language": "python",
   "name": "python3"
  },
  "language_info": {
   "codemirror_mode": {
    "name": "ipython",
    "version": 3
   },
   "file_extension": ".py",
   "mimetype": "text/x-python",
   "name": "python",
   "nbconvert_exporter": "python",
   "pygments_lexer": "ipython3",
   "version": "3.7.3"
  }
 },
 "nbformat": 4,
 "nbformat_minor": 2
}
