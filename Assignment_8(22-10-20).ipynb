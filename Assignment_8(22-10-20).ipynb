{
 "cells": [
  {
   "cell_type": "code",
   "execution_count": 1,
   "metadata": {},
   "outputs": [],
   "source": [
    "# 12 Assignment: Go through the below in-built functions with 2 examples each\n",
    "\n",
    "# reduce()\n",
    "# zip()\n",
    "# enumerate()"
   ]
  },
  {
   "cell_type": "code",
   "execution_count": 8,
   "metadata": {},
   "outputs": [
    {
     "name": "stdout",
     "output_type": "stream",
     "text": [
      "Sum of a list [1,2,3,4,5] is 15\n",
      "\n",
      "Concatenation of a list ['Python','Is','Very','Easy','To,'Understand'] is PythonIsVeryEasyToUnderstand\n"
     ]
    }
   ],
   "source": [
    "# 1. reduce() - this function is used to apply a particular function passed in its argument \n",
    "#               to all of the list elements mentioned in the sequence passed along.\n",
    "\n",
    "'''\n",
    "1. At first step, first two elements of sequence are picked and the result is obtained.\n",
    "2. Next step is to apply the same function to the previously attained result and \n",
    "   the number just succeeding the second element and the result is again stored.\n",
    "3. This process continues till no more elements are left in the container.\n",
    "4. The final returned result is returned and printed on console.\n",
    "'''\n",
    "\n",
    "# Example 1\n",
    "import functools # replace() method is in fucntools module\n",
    "\n",
    "sum1 = functools.reduce(lambda a,b: a + b, [1,2,3,4,5])\n",
    "print(\"Sum of a list [1,2,3,4,5] is\",sum1)\n",
    "\n",
    "\n",
    "#Example 2\n",
    "\n",
    "str1 = functools.reduce(lambda a,b: a+b, [\"Python\",\"Is\",\"Very\",\"Easy\",\"To\",\"Understand\"])\n",
    "\n",
    "print(\"\\nConcatenation of a list ['Python','Is','Very','Easy','To,'Understand'] is\", str1)"
   ]
  },
  {
   "cell_type": "code",
   "execution_count": 3,
   "metadata": {},
   "outputs": [
    {
     "data": {
      "text/plain": [
       "(('1', 'One'), ('2', 'Two'), ('3', 'Three'))"
      ]
     },
     "execution_count": 3,
     "metadata": {},
     "output_type": "execute_result"
    }
   ],
   "source": [
    "# zip() - this mehtod is used to map the similar index of multiple containers \n",
    "#         so that they can be used just using as single entity.\n",
    "\n",
    "# Example 1: \n",
    "a = (\"1\", \"2\", \"3\")\n",
    "b = (\"One\", \"Two\", \"Three\", \"Four\")\n",
    "\n",
    "c = tuple(zip(a,b))\n",
    "c"
   ]
  },
  {
   "cell_type": "code",
   "execution_count": 6,
   "metadata": {},
   "outputs": [
    {
     "data": {
      "text/plain": [
       "[(0, 'One'), (1, 'Two'), (2, 'Three'), (3, 'Four')]"
      ]
     },
     "execution_count": 6,
     "metadata": {},
     "output_type": "execute_result"
    }
   ],
   "source": [
    "#enumerate() - function adds a counter as the key of the enumerate object.\n",
    "\n",
    "#Example 1:\n",
    "m = (\"One\", \"Two\", \"Three\", \"Four\")\n",
    "\n",
    "x= list(enumerate(m))\n",
    "x"
   ]
  },
  {
   "cell_type": "code",
   "execution_count": null,
   "metadata": {},
   "outputs": [],
   "source": []
  }
 ],
 "metadata": {
  "kernelspec": {
   "display_name": "Python 3",
   "language": "python",
   "name": "python3"
  },
  "language_info": {
   "codemirror_mode": {
    "name": "ipython",
    "version": 3
   },
   "file_extension": ".py",
   "mimetype": "text/x-python",
   "name": "python",
   "nbconvert_exporter": "python",
   "pygments_lexer": "ipython3",
   "version": "3.7.3"
  }
 },
 "nbformat": 4,
 "nbformat_minor": 2
}
